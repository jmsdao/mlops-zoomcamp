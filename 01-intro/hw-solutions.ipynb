{
 "cells": [
  {
   "cell_type": "code",
   "execution_count": 83,
   "id": "2d6cdf3a-8f8a-4850-a6cb-35eb7a29915a",
   "metadata": {},
   "outputs": [],
   "source": [
    "import os\n",
    "from urllib import request\n",
    "\n",
    "import numpy as np\n",
    "import pandas as pd\n",
    "\n",
    "from sklearn.preprocessing import OneHotEncoder\n",
    "from sklearn.linear_model import LinearRegression\n",
    "from sklearn.metrics import mean_squared_error\n",
    "\n",
    "import matplotlib.pyplot as plt\n",
    "import seaborn as sns\n",
    "sns.set()"
   ]
  },
  {
   "cell_type": "code",
   "execution_count": 10,
   "id": "3dbfbbc3-d0ac-4602-b4e9-c6c2f160231d",
   "metadata": {},
   "outputs": [],
   "source": [
    "data_dirname = \"data\"\n",
    "\n",
    "data_meta = [\n",
    "    {\n",
    "        \"url\": \"https://d37ci6vzurychx.cloudfront.net/trip-data/fhv_tripdata_2021-01.parquet\",\n",
    "        \"local_path\": os.path.join(data_dirname, \"fhv_tripdata_2021-01.parquet\"),\n",
    "    },\n",
    "    {\n",
    "        \"url\": \"https://d37ci6vzurychx.cloudfront.net/trip-data/fhv_tripdata_2021-02.parquet\",\n",
    "        \"local_path\": os.path.join(data_dirname, \"fhv_tripdata_2021-02.parquet\"),\n",
    "    },\n",
    "]"
   ]
  },
  {
   "cell_type": "code",
   "execution_count": 11,
   "id": "3d4c0c4d-9e28-4a47-b786-5d581b0b6192",
   "metadata": {},
   "outputs": [],
   "source": [
    "if not os.path.exists(data_dirname):\n",
    "    os.mkdir(data_dirname)\n",
    "    \n",
    "for dm in data_meta:\n",
    "    if not os.path.exists(dm['local_path']):\n",
    "        request.urlretrieve(rd['url'], local_path)"
   ]
  },
  {
   "cell_type": "code",
   "execution_count": 12,
   "id": "f0ae80be-5a9e-4588-a356-1c9e4690d722",
   "metadata": {},
   "outputs": [],
   "source": [
    "jan = pd.read_parquet(data_meta[0]['local_path'])"
   ]
  },
  {
   "cell_type": "code",
   "execution_count": 13,
   "id": "5e47d7e0-dcb2-4a85-bcdf-bcdbc52ae5d4",
   "metadata": {},
   "outputs": [
    {
     "data": {
      "text/plain": [
       "1154112"
      ]
     },
     "execution_count": 13,
     "metadata": {},
     "output_type": "execute_result"
    }
   ],
   "source": [
    "# Q1. Downloading the data\n",
    "# Read the data for January. How many records are there?\n",
    "jan.shape[0]"
   ]
  },
  {
   "cell_type": "code",
   "execution_count": 14,
   "id": "605e1122-49ca-4942-a2f1-5e07664f39ac",
   "metadata": {},
   "outputs": [
    {
     "data": {
      "text/plain": [
       "19.1672240937939"
      ]
     },
     "execution_count": 14,
     "metadata": {},
     "output_type": "execute_result"
    }
   ],
   "source": [
    "# Q2. Computing duration\n",
    "# What's the average trip duration in January?\n",
    "jan['duration'] = (jan.dropOff_datetime - jan.pickup_datetime).dt.total_seconds() / 60\n",
    "jan['duration'].mean()"
   ]
  },
  {
   "cell_type": "code",
   "execution_count": 15,
   "id": "b68e4984-2a0e-46bd-a29c-148fc52fe9a3",
   "metadata": {},
   "outputs": [
    {
     "data": {
      "image/png": "[encoded data removed]",
      "text/plain": [
       "<Figure size 864x360 with 2 Axes>"
      ]
     },
     "metadata": {},
     "output_type": "display_data"
    }
   ],
   "source": [
    "# Data preparation\n",
    "# Check the distribution of the duration variable. There are some outliers.\n",
    "# Let's remove them and keep only the records where the duration was between 1 and 60 minutes (inclusive).\n",
    "# How many records did you drop?\n",
    "\n",
    "duration_filter = (jan['duration'] >= 1) & (jan['duration'] <= 60)\n",
    "jan_filt = jan.loc[duration_filter].copy()\n",
    "\n",
    "fig, axes = plt.subplots(1, 2, figsize=(12, 5))\n",
    "fig.suptitle(f\"Num rows dropped: {jan.shape[0] - jan_filt.shape[0]}\")\n",
    "\n",
    "sns.boxplot(y='duration', data=jan, ax=axes[0]).set(title=\"Before filter\")\n",
    "sns.boxplot(y='duration', data=jan_filt, ax=axes[1]).set(title=\"After filter\");"
   ]
  },
  {
   "cell_type": "code",
   "execution_count": 67,
   "id": "5e1577e7-7b23-4f6d-80b8-596acc42ca7e",
   "metadata": {},
   "outputs": [
    {
     "name": "stdout",
     "output_type": "stream",
     "text": [
      "% of -1s of pickup location IDs: 83.5%\n"
     ]
    }
   ],
   "source": [
    "# Q3. Missing values\n",
    "# What's the fractions of missing values for the pickup location ID?\n",
    "# I.e. fraction of \"-1\"s after you filled the NAs.\n",
    "jan_filt['PUlocationID'] = jan_filt['PUlocationID'].fillna(-1).astype(np.int32)\n",
    "jan_filt['DOlocationID'] = jan_filt['DOlocationID'].fillna(-1).astype(np.int32)\n",
    "\n",
    "print(f\"% of -1s of pickup location IDs: {(jan_filt['PUlocationID'] == -1).mean() * 100 :.1f}%\")"
   ]
  },
  {
   "cell_type": "code",
   "execution_count": 86,
   "id": "f419545a-cfe7-47c0-98bd-6fdb1829570e",
   "metadata": {},
   "outputs": [
    {
     "name": "stdout",
     "output_type": "stream",
     "text": [
      "Dimensionality of matrix: 525\n"
     ]
    }
   ],
   "source": [
    "# Q4. One-hot encoding\n",
    "# Let's apply one-hot encoding to the pickup and dropoff location IDs. We'll use only these two features for our model.\n",
    "# What's the dimensionality of this matrix? (The number of columns).\n",
    "features = ['PUlocationID', 'DOlocationID']\n",
    "\n",
    "enc = OneHotEncoder(handle_unknown='ignore')\n",
    "enc.fit(jan_filt[features])\n",
    "\n",
    "X_train = enc.transform(jan_filt[features])\n",
    "\n",
    "print(f\"Dimensionality of matrix: {X_train.shape[1]}\")"
   ]
  },
  {
   "cell_type": "code",
   "execution_count": 87,
   "id": "bda8568b-8ae5-41c8-9d49-61270e802367",
   "metadata": {},
   "outputs": [
    {
     "data": {
      "text/plain": [
       "10.528519107205033"
      ]
     },
     "execution_count": 87,
     "metadata": {},
     "output_type": "execute_result"
    }
   ],
   "source": [
    "# Q5. Training a model\n",
    "# Now let's use the feature matrix from the previous step to train a model.\n",
    "#     Train a plain linear regression model with default parameters\n",
    "#     Calculate the RMSE of the model on the training data\n",
    "# What's the RMSE on train?\n",
    "y_train = jan_filt['duration'].values\n",
    "\n",
    "reg = LinearRegression().fit(X_train, y_train)\n",
    "\n",
    "y_pred = reg.predict(X_train)\n",
    "mean_squared_error(y_train, y_pred, squared=False)"
   ]
  },
  {
   "cell_type": "code",
   "execution_count": 102,
   "id": "5e4709a7-0143-4834-a6e9-1b1a0cc77e61",
   "metadata": {},
   "outputs": [
    {
     "data": {
      "text/plain": [
       "11.014283136917232"
      ]
     },
     "execution_count": 102,
     "metadata": {},
     "output_type": "execute_result"
    }
   ],
   "source": [
    "# Q6. Evaluating the model\n",
    "# Now let's apply this model to the validation dataset (Feb 2021).\n",
    "# What's the RMSE on validation?\n",
    "feb = pd.read_parquet(data_meta[1]['local_path'])\n",
    "feb['duration'] = (feb.dropOff_datetime - feb.pickup_datetime).dt.total_seconds() / 60\n",
    "\n",
    "duration_filter = (feb['duration'] >= 1) & (feb['duration'] <= 60)\n",
    "feb = feb[duration_filter]\n",
    "\n",
    "X_val = enc.transform(feb[features].fillna(-1).astype(np.int32))\n",
    "y_val = feb['duration'].values\n",
    "\n",
    "y_pred = reg.predict(X_val)\n",
    "mean_squared_error(y_val, y_pred, squared=False)"
   ]
  }
 ],
 "metadata": {
  "kernelspec": {
   "display_name": "Python 3 (ipykernel)",
   "language": "python",
   "name": "python3"
  },
  "language_info": {
   "codemirror_mode": {
    "name": "ipython",
    "version": 3
   },
   "file_extension": ".py",
   "mimetype": "text/x-python",
   "name": "python",
   "nbconvert_exporter": "python",
   "pygments_lexer": "ipython3",
   "version": "3.10.4"
  }
 },
 "nbformat": 4,
 "nbformat_minor": 5
}
